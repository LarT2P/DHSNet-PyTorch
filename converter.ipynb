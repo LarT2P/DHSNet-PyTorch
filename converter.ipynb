{
 "cells": [
  {
   "cell_type": "markdown",
   "metadata": {},
   "source": [
    "## pytorch -> caffe2模型的转换"
   ]
  },
  {
   "cell_type": "code",
   "execution_count": 66,
   "metadata": {},
   "outputs": [],
   "source": [
    "import re\n",
    "\n",
    "import onnx\n",
    "import torch\n",
    "from torch.autograd import Variable\n",
    "from onnx import onnx_pb\n",
    "from model.DHS_vgg import Vgg\n",
    "import numpy as np\n",
    "\n",
    "import caffe2.python.onnx.backend as onnx_caffe2_backend\n",
    "# Now import the caffe2 mobile exporter\n",
    "from caffe2.python.predictor import mobile_exporter\n",
    "%matplotlib inline"
   ]
  },
  {
   "cell_type": "markdown",
   "metadata": {},
   "source": [
    "## pytorch -> onnx"
   ]
  },
  {
   "cell_type": "code",
   "execution_count": 67,
   "metadata": {},
   "outputs": [],
   "source": [
    "IMG_SIZE = 224\n",
    "\n",
    "TMP_ONNX = 'cache/onnx/DHSNet.onnx'\n",
    "MODEL_PATH = 'cache/opti/total-opti-current.pth'\n",
    "\n",
    "# Convert to ONNX once\n",
    "model = torch.load(MODEL_PATH).cuda()\n",
    "model.train(False)\n",
    "\n",
    "x = Variable(torch.randn(1, 3, 224, 224), requires_grad=True).cuda()\n",
    "torch_out = torch.onnx._export(model, x, TMP_ONNX, export_params=True)"
   ]
  },
  {
   "cell_type": "markdown",
   "metadata": {},
   "source": [
    "## onnx -> caffe2"
   ]
  },
  {
   "cell_type": "code",
   "execution_count": 68,
   "metadata": {},
   "outputs": [
    {
     "name": "stdout",
     "output_type": "stream",
     "text": [
      "(1, 1, 224, 224)\n",
      "Exported model has been executed on Caffe2 backend, and the result looks good!\n"
     ]
    }
   ],
   "source": [
    "# Print out ONNX model to confirm the number of output layer\n",
    "onnx_model = onnx.load(TMP_ONNX)\n",
    "# print(onnx_model)\n",
    "# Check that the IR is well formed\n",
    "onnx.checker.check_model(onnx_model)\n",
    "# Print a human readable representation of the graph\n",
    "# print(onnx.helper.printable_graph(onnx_model.graph))\n",
    "\n",
    "# prepare the caffe2 backend for executing the model this converts the ONNX model into a\n",
    "# Caffe2 NetDef that can execute it. Other ONNX backends, like one for CNTK will be\n",
    "# availiable soon.\n",
    "prepared_backend = onnx_caffe2_backend.prepare(onnx_model)\n",
    "\n",
    "# run the model in Caffe2\n",
    "\n",
    "# Construct a map from input names to Tensor data.\n",
    "# The graph of the model itself contains inputs for all weight parameters, after the input image.\n",
    "# Since the weights are already embedded, we just need to pass the input image.\n",
    "# Set the first input.\n",
    "W = {onnx_model.graph.input[0].name: x.cpu().data.numpy()}\n",
    "\n",
    "# Run the Caffe2 net:\n",
    "c2_out = prepared_backend.run(W)[4]\n",
    "\n",
    "print(torch_out[4].cpu().detach().numpy().shape)\n",
    "# Verify the numerical correctness upto 3 decimal places\n",
    "np.testing.assert_almost_equal(torch_out[4].cpu().detach().numpy(), c2_out, decimal=3)\n",
    "\n",
    "print(\"Exported model has been executed on Caffe2 backend, and the result looks good!\")"
   ]
  },
  {
   "cell_type": "code",
   "execution_count": 69,
   "metadata": {},
   "outputs": [
    {
     "name": "stdout",
     "output_type": "stream",
     "text": [
      "over...\n"
     ]
    }
   ],
   "source": [
    "# extract the workspace and the model proto from the internal representation\n",
    "c2_workspace = prepared_backend.workspace\n",
    "c2_model = prepared_backend.predict_net\n",
    "\n",
    "# call the Export to get the predict_net, init_net. These nets are needed for running things on mobile\n",
    "init_net, predict_net = mobile_exporter.Export(c2_workspace, c2_model, c2_model.external_input)\n",
    "\n",
    "# Let's also save the init_net and predict_net to a file that we will later use for running them on mobile\n",
    "with open('./cache/model_mobile/init_net.pb', \"wb\") as fopen:\n",
    "    fopen.write(init_net.SerializeToString())\n",
    "with open('./cache/model_mobile/predict_net.pb', \"wb\") as fopen:\n",
    "    fopen.write(predict_net.SerializeToString())\n",
    "\n",
    "print(\"over...\")"
   ]
  },
  {
   "cell_type": "markdown",
   "metadata": {},
   "source": [
    "## 对纯caffe2后端的网络进行测试"
   ]
  },
  {
   "cell_type": "code",
   "execution_count": 70,
   "metadata": {},
   "outputs": [],
   "source": [
    "# Some standard imports\n",
    "from caffe2.proto import caffe2_pb2\n",
    "from caffe2.python import core, net_drawer, net_printer, visualize, workspace, utils\n",
    "\n",
    "import numpy as np\n",
    "import os\n",
    "import subprocess\n",
    "from PIL import Image\n",
    "import matplotlib.pyplot as plt\n",
    "from skimage import io, transform"
   ]
  },
  {
   "cell_type": "code",
   "execution_count": 71,
   "metadata": {},
   "outputs": [
    {
     "name": "stderr",
     "output_type": "stream",
     "text": [
      "/home/lart/.conda/envs/pt/lib/python3.6/site-packages/skimage/transform/_warps.py:105: UserWarning: The default mode, 'constant', will be changed to 'reflect' in skimage 0.15.\n",
      "  warn(\"The default mode, 'constant', will be changed to 'reflect' in \"\n",
      "/home/lart/.conda/envs/pt/lib/python3.6/site-packages/skimage/transform/_warps.py:110: UserWarning: Anti-aliasing will be enabled by default in skimage 0.15 to avoid aliasing artifacts when down-sampling images.\n",
      "  warn(\"Anti-aliasing will be enabled by default in skimage 0.15 to \"\n",
      "/home/lart/.conda/envs/pt/lib/python3.6/site-packages/skimage/util/dtype.py:141: UserWarning: Possible precision loss when converting from float64 to uint8\n",
      "  .format(dtypeobj_in, dtypeobj_out))\n"
     ]
    }
   ],
   "source": [
    "# load the image\n",
    "img_in = io.imread(\"./data/DUTS/train/images/ILSVRC2012_test_00000004.jpg\")\n",
    "\n",
    "# resize the image to dimensions 224x224\n",
    "img = transform.resize(img_in, [224, 224])\n",
    "\n",
    "# save this resized image to be used as input to the model\n",
    "io.imsave(\"./data/ILSVRC2012_test_00000004_224x224.jpg\", img)"
   ]
  },
  {
   "cell_type": "code",
   "execution_count": 72,
   "metadata": {},
   "outputs": [],
   "source": [
    "# load the resized image and convert it to Ybr format\n",
    "mean = np.array([0.485, 0.456, 0.406])\n",
    "std = np.array([0.229, 0.224, 0.225])\n",
    "img = Image.open(\"./data/ILSVRC2012_test_00000004_224x224.jpg\")\n",
    "img = np.array(img)\n",
    "img = img.astype(np.float64) / 255\n",
    "img -= mean\n",
    "img /= std\n",
    "img = img.transpose(2, 0, 1)"
   ]
  },
  {
   "cell_type": "code",
   "execution_count": 73,
   "metadata": {},
   "outputs": [
    {
     "name": "stdout",
     "output_type": "stream",
     "text": [
      "torch-jit-export_predict = core.Net('torch-jit-export_predict')\n",
      "torch-jit-export_predict.Conv(['0', '1', '2'], ['152'], strides=[1, 1], pads=[1, 1, 1, 1], kernels=[3, 3], group=1, dilations=[1, 1])\n",
      "torch-jit-export_predict.SpatialBN(['152', '3', '4', '5', '6'], ['153'], momentum=1.0, epsilon=9.999999747378752e-06, is_test=1)\n",
      "torch-jit-export_predict.Relu(['153'], ['154'])\n",
      "torch-jit-export_predict.Conv(['154', '8', '9'], ['155'], strides=[1, 1], pads=[1, 1, 1, 1], kernels=[3, 3], group=1, dilations=[1, 1])\n",
      "torch-jit-export_predict.SpatialBN(['155', '10', '11', '12', '13'], ['156'], momentum=1.0, epsilon=9.999999747378752e-06, is_test=1)\n",
      "torch-jit-export_predict.Relu(['156'], ['157'])\n",
      "torch-jit-export_predict.MaxPool(['157'], ['158'], strides=[2, 2], pads=[0, 0, 0, 0], kernels=[2, 2])\n",
      "torch-jit-export_predict.Conv(['158', '15', '16'], ['159'], strides=[1, 1], pads=[1, 1, 1, 1], kernels=[3, 3], group=1, dilations=[1, 1])\n",
      "torch-jit-export_predict.SpatialBN(['159', '17', '18', '19', '20'], ['160'], momentum=1.0, epsilon=9.999999747378752e-06, is_test=1)\n",
      "torch-jit-export_predict.Relu(['160'], ['161'])\n",
      "torch-jit-export_predict.Conv(['161', '22', '23'], ['162'], strides=[1, 1], pads=[1, 1, 1, 1], kernels=[3, 3], group=1, dilations=[1, 1])\n",
      "torch-jit-export_predict.SpatialBN(['162', '24', '25', '26', '27'], ['163'], momentum=1.0, epsilon=9.999999747378752e-06, is_test=1)\n",
      "torch-jit-export_predict.Relu(['163'], ['164'])\n",
      "torch-jit-export_predict.MaxPool(['164'], ['165'], strides=[2, 2], pads=[0, 0, 0, 0], kernels=[2, 2])\n",
      "torch-jit-export_predict.Conv(['165', '29', '30'], ['166'], strides=[1, 1], pads=[1, 1, 1, 1], kernels=[3, 3], group=1, dilations=[1, 1])\n",
      "torch-jit-export_predict.SpatialBN(['166', '31', '32', '33', '34'], ['167'], momentum=1.0, epsilon=9.999999747378752e-06, is_test=1)\n",
      "torch-jit-export_predict.Relu(['167'], ['168'])\n",
      "torch-jit-export_predict.Conv(['168', '36', '37'], ['169'], strides=[1, 1], pads=[1, 1, 1, 1], kernels=[3, 3], group=1, dilations=[1, 1])\n",
      "torch-jit-export_predict.SpatialBN(['169', '38', '39', '40', '41'], ['170'], momentum=1.0, epsilon=9.999999747378752e-06, is_test=1)\n",
      "torch-jit-export_predict.Relu(['170'], ['171'])\n",
      "torch-jit-export_predict.Conv(['171', '43', '44'], ['172'], strides=[1, 1], pads=[1, 1, 1, 1], kernels=[3, 3], group=1, dilations=[1, 1])\n",
      "torch-jit-export_predict.SpatialBN(['172', '45', '46', '47', '48'], ['173'], momentum=1.0, epsilon=9.999999747378752e-06, is_test=1)\n",
      "torch-jit-export_predict.Relu(['173'], ['174'])\n",
      "torch-jit-export_predict.MaxPool(['174'], ['175'], strides=[2, 2], pads=[0, 0, 0, 0], kernels=[2, 2])\n",
      "torch-jit-export_predict.Conv(['175', '50', '51'], ['176'], strides=[1, 1], pads=[1, 1, 1, 1], kernels=[3, 3], group=1, dilations=[1, 1])\n",
      "torch-jit-export_predict.SpatialBN(['176', '52', '53', '54', '55'], ['177'], momentum=1.0, epsilon=9.999999747378752e-06, is_test=1)\n",
      "torch-jit-export_predict.Relu(['177'], ['178'])\n",
      "torch-jit-export_predict.Conv(['178', '57', '58'], ['179'], strides=[1, 1], pads=[1, 1, 1, 1], kernels=[3, 3], group=1, dilations=[1, 1])\n",
      "torch-jit-export_predict.SpatialBN(['179', '59', '60', '61', '62'], ['180'], momentum=1.0, epsilon=9.999999747378752e-06, is_test=1)\n",
      "torch-jit-export_predict.Relu(['180'], ['181'])\n",
      "torch-jit-export_predict.Conv(['181', '64', '65'], ['182'], strides=[1, 1], pads=[1, 1, 1, 1], kernels=[3, 3], group=1, dilations=[1, 1])\n",
      "torch-jit-export_predict.SpatialBN(['182', '66', '67', '68', '69'], ['183'], momentum=1.0, epsilon=9.999999747378752e-06, is_test=1)\n",
      "torch-jit-export_predict.Relu(['183'], ['184'])\n",
      "torch-jit-export_predict.MaxPool(['184'], ['185'], strides=[2, 2], pads=[0, 0, 0, 0], kernels=[2, 2])\n",
      "torch-jit-export_predict.Conv(['185', '71', '72'], ['186'], strides=[1, 1], pads=[1, 1, 1, 1], kernels=[3, 3], group=1, dilations=[1, 1])\n",
      "torch-jit-export_predict.SpatialBN(['186', '73', '74', '75', '76'], ['187'], momentum=1.0, epsilon=9.999999747378752e-06, is_test=1)\n",
      "torch-jit-export_predict.Relu(['187'], ['188'])\n",
      "torch-jit-export_predict.Conv(['188', '78', '79'], ['189'], strides=[1, 1], pads=[1, 1, 1, 1], kernels=[3, 3], group=1, dilations=[1, 1])\n",
      "torch-jit-export_predict.SpatialBN(['189', '80', '81', '82', '83'], ['190'], momentum=1.0, epsilon=9.999999747378752e-06, is_test=1)\n",
      "torch-jit-export_predict.Relu(['190'], ['191'])\n",
      "torch-jit-export_predict.Conv(['191', '85', '86'], ['192'], strides=[1, 1], pads=[1, 1, 1, 1], kernels=[3, 3], group=1, dilations=[1, 1])\n",
      "torch-jit-export_predict.SpatialBN(['192', '87', '88', '89', '90'], ['193'], momentum=1.0, epsilon=9.999999747378752e-06, is_test=1)\n",
      "torch-jit-export_predict.Relu(['193'], ['194'])\n",
      "torch-jit-export_predict.Shape(['194'], ['196'])\n",
      "torch-jit-export_predict.Gather(['196', '195'], ['197'])\n",
      "torch-jit-export_predict.ExpandDims(['197'], ['199'], dims=[0])\n",
      "torch-jit-export_predict.Concat(['199', '200'], ['201', 'OC2_DUMMY_0'], axis=0)\n",
      "torch-jit-export_predict.Reshape(['194', '201'], ['202', 'OC2_DUMMY_1'])\n",
      "torch-jit-export_predict.FC(['202', '92', '93'], ['203'])\n",
      "torch-jit-export_predict.ExpandDims(['197'], ['207'], dims=[0])\n",
      "torch-jit-export_predict.Concat(['207', '208', '209', '210'], ['211', 'OC2_DUMMY_2'], axis=0)\n",
      "torch-jit-export_predict.Reshape(['203', '211'], ['212', 'OC2_DUMMY_3'])\n",
      "torch-jit-export_predict.Conv(['184', '94', '95'], ['213'], strides=[1, 1], pads=[0, 0, 0, 0], kernels=[1, 1], group=1, dilations=[1, 1])\n",
      "torch-jit-export_predict.Sigmoid(['213'], ['214'])\n",
      "torch-jit-export_predict.Sigmoid(['212'], ['215'])\n",
      "torch-jit-export_predict.Concat(['214', '215'], ['216', 'OC2_DUMMY_4'], axis=1)\n",
      "torch-jit-export_predict.Conv(['216', '96', '97'], ['217'], strides=[1, 1], pads=[1, 1, 1, 1], kernels=[3, 3], group=1, dilations=[1, 1])\n",
      "torch-jit-export_predict.Relu(['217'], ['218'])\n",
      "torch-jit-export_predict.SpatialBN(['218', '98', '99', '100', '101'], ['219'], momentum=1.0, epsilon=9.999999747378752e-06, is_test=1)\n",
      "torch-jit-export_predict.Conv(['219', '103', '104'], ['220'], strides=[1, 1], pads=[1, 1, 1, 1], kernels=[3, 3], group=1, dilations=[1, 1])\n",
      "torch-jit-export_predict.Add(['220', '219'], ['221'])\n",
      "torch-jit-export_predict.Relu(['221'], ['222'])\n",
      "torch-jit-export_predict.SpatialBN(['222', '98', '99', '100', '101'], ['223'], momentum=1.0, epsilon=9.999999747378752e-06, is_test=1)\n",
      "torch-jit-export_predict.Conv(['223', '103', '104'], ['224'], strides=[1, 1], pads=[1, 1, 1, 1], kernels=[3, 3], group=1, dilations=[1, 1])\n",
      "torch-jit-export_predict.Add(['224', '219'], ['225'])\n",
      "torch-jit-export_predict.Relu(['225'], ['226'])\n",
      "torch-jit-export_predict.SpatialBN(['226', '98', '99', '100', '101'], ['227'], momentum=1.0, epsilon=9.999999747378752e-06, is_test=1)\n",
      "torch-jit-export_predict.Conv(['227', '103', '104'], ['228'], strides=[1, 1], pads=[1, 1, 1, 1], kernels=[3, 3], group=1, dilations=[1, 1])\n",
      "torch-jit-export_predict.Add(['228', '219'], ['229'])\n",
      "torch-jit-export_predict.Relu(['229'], ['230'])\n",
      "torch-jit-export_predict.SpatialBN(['230', '98', '99', '100', '101'], ['231'], momentum=1.0, epsilon=9.999999747378752e-06, is_test=1)\n",
      "torch-jit-export_predict.Conv(['231', '105', '106'], ['232'], strides=[1, 1], pads=[1, 1, 1, 1], kernels=[3, 3], group=1, dilations=[1, 1])\n",
      "torch-jit-export_predict.Sigmoid(['232'], ['233'])\n",
      "torch-jit-export_predict.ConvTranspose(['233', '146', '147'], ['234'], dilations=[1, 1], group=1, kernels=[4, 4], pads=[1, 1, 1, 1], strides=[2, 2])\n",
      "torch-jit-export_predict.Conv(['174', '107', '108'], ['235'], strides=[1, 1], pads=[0, 0, 0, 0], kernels=[1, 1], group=1, dilations=[1, 1])\n",
      "torch-jit-export_predict.Sigmoid(['235'], ['236'])\n",
      "torch-jit-export_predict.Sigmoid(['234'], ['237'])\n",
      "torch-jit-export_predict.Concat(['236', '237'], ['238', 'OC2_DUMMY_5'], axis=1)\n",
      "torch-jit-export_predict.Conv(['238', '109', '110'], ['239'], strides=[1, 1], pads=[1, 1, 1, 1], kernels=[3, 3], group=1, dilations=[1, 1])\n",
      "torch-jit-export_predict.Relu(['239'], ['240'])\n",
      "torch-jit-export_predict.SpatialBN(['240', '111', '112', '113', '114'], ['241'], momentum=1.0, epsilon=9.999999747378752e-06, is_test=1)\n",
      "torch-jit-export_predict.Conv(['241', '116', '117'], ['242'], strides=[1, 1], pads=[1, 1, 1, 1], kernels=[3, 3], group=1, dilations=[1, 1])\n",
      "torch-jit-export_predict.Add(['242', '241'], ['243'])\n",
      "torch-jit-export_predict.Relu(['243'], ['244'])\n",
      "torch-jit-export_predict.SpatialBN(['244', '111', '112', '113', '114'], ['245'], momentum=1.0, epsilon=9.999999747378752e-06, is_test=1)\n",
      "torch-jit-export_predict.Conv(['245', '116', '117'], ['246'], strides=[1, 1], pads=[1, 1, 1, 1], kernels=[3, 3], group=1, dilations=[1, 1])\n",
      "torch-jit-export_predict.Add(['246', '241'], ['247'])\n",
      "torch-jit-export_predict.Relu(['247'], ['248'])\n",
      "torch-jit-export_predict.SpatialBN(['248', '111', '112', '113', '114'], ['249'], momentum=1.0, epsilon=9.999999747378752e-06, is_test=1)\n",
      "torch-jit-export_predict.Conv(['249', '116', '117'], ['250'], strides=[1, 1], pads=[1, 1, 1, 1], kernels=[3, 3], group=1, dilations=[1, 1])\n",
      "torch-jit-export_predict.Add(['250', '241'], ['251'])\n",
      "torch-jit-export_predict.Relu(['251'], ['252'])\n",
      "torch-jit-export_predict.SpatialBN(['252', '111', '112', '113', '114'], ['253'], momentum=1.0, epsilon=9.999999747378752e-06, is_test=1)\n",
      "torch-jit-export_predict.Conv(['253', '118', '119'], ['254'], strides=[1, 1], pads=[1, 1, 1, 1], kernels=[3, 3], group=1, dilations=[1, 1])\n",
      "torch-jit-export_predict.Sigmoid(['254'], ['255'])\n",
      "torch-jit-export_predict.ConvTranspose(['255', '148', '149'], ['256'], dilations=[1, 1], group=1, kernels=[4, 4], pads=[1, 1, 1, 1], strides=[2, 2])\n",
      "torch-jit-export_predict.Conv(['164', '120', '121'], ['257'], strides=[1, 1], pads=[0, 0, 0, 0], kernels=[1, 1], group=1, dilations=[1, 1])\n",
      "torch-jit-export_predict.Sigmoid(['257'], ['258'])\n",
      "torch-jit-export_predict.Sigmoid(['256'], ['259'])\n",
      "torch-jit-export_predict.Concat(['258', '259'], ['260', 'OC2_DUMMY_6'], axis=1)\n",
      "torch-jit-export_predict.Conv(['260', '122', '123'], ['261'], strides=[1, 1], pads=[1, 1, 1, 1], kernels=[3, 3], group=1, dilations=[1, 1])\n",
      "torch-jit-export_predict.Relu(['261'], ['262'])\n",
      "torch-jit-export_predict.SpatialBN(['262', '124', '125', '126', '127'], ['263'], momentum=1.0, epsilon=9.999999747378752e-06, is_test=1)\n",
      "torch-jit-export_predict.Conv(['263', '129', '130'], ['264'], strides=[1, 1], pads=[1, 1, 1, 1], kernels=[3, 3], group=1, dilations=[1, 1])\n",
      "torch-jit-export_predict.Add(['264', '263'], ['265'])\n",
      "torch-jit-export_predict.Relu(['265'], ['266'])\n",
      "torch-jit-export_predict.SpatialBN(['266', '124', '125', '126', '127'], ['267'], momentum=1.0, epsilon=9.999999747378752e-06, is_test=1)\n",
      "torch-jit-export_predict.Conv(['267', '129', '130'], ['268'], strides=[1, 1], pads=[1, 1, 1, 1], kernels=[3, 3], group=1, dilations=[1, 1])\n",
      "torch-jit-export_predict.Add(['268', '263'], ['269'])\n",
      "torch-jit-export_predict.Relu(['269'], ['270'])\n",
      "torch-jit-export_predict.SpatialBN(['270', '124', '125', '126', '127'], ['271'], momentum=1.0, epsilon=9.999999747378752e-06, is_test=1)\n",
      "torch-jit-export_predict.Conv(['271', '129', '130'], ['272'], strides=[1, 1], pads=[1, 1, 1, 1], kernels=[3, 3], group=1, dilations=[1, 1])\n",
      "torch-jit-export_predict.Add(['272', '263'], ['273'])\n",
      "torch-jit-export_predict.Relu(['273'], ['274'])\n",
      "torch-jit-export_predict.SpatialBN(['274', '124', '125', '126', '127'], ['275'], momentum=1.0, epsilon=9.999999747378752e-06, is_test=1)\n",
      "torch-jit-export_predict.Conv(['275', '131', '132'], ['276'], strides=[1, 1], pads=[1, 1, 1, 1], kernels=[3, 3], group=1, dilations=[1, 1])\n",
      "torch-jit-export_predict.Sigmoid(['276'], ['277'])\n",
      "torch-jit-export_predict.ConvTranspose(['277', '150', '151'], ['278'], dilations=[1, 1], group=1, kernels=[4, 4], pads=[1, 1, 1, 1], strides=[2, 2])\n",
      "torch-jit-export_predict.Conv(['157', '133', '134'], ['279'], strides=[1, 1], pads=[0, 0, 0, 0], kernels=[1, 1], group=1, dilations=[1, 1])\n",
      "torch-jit-export_predict.Sigmoid(['279'], ['280'])\n",
      "torch-jit-export_predict.Sigmoid(['278'], ['281'])\n",
      "torch-jit-export_predict.Concat(['280', '281'], ['282', 'OC2_DUMMY_7'], axis=1)\n",
      "torch-jit-export_predict.Conv(['282', '135', '136'], ['283'], strides=[1, 1], pads=[1, 1, 1, 1], kernels=[3, 3], group=1, dilations=[1, 1])\n",
      "torch-jit-export_predict.Relu(['283'], ['284'])\n",
      "torch-jit-export_predict.SpatialBN(['284', '137', '138', '139', '140'], ['285'], momentum=1.0, epsilon=9.999999747378752e-06, is_test=1)\n",
      "torch-jit-export_predict.Conv(['285', '142', '143'], ['286'], strides=[1, 1], pads=[1, 1, 1, 1], kernels=[3, 3], group=1, dilations=[1, 1])\n",
      "torch-jit-export_predict.Add(['286', '285'], ['287'])\n",
      "torch-jit-export_predict.Relu(['287'], ['288'])\n",
      "torch-jit-export_predict.SpatialBN(['288', '137', '138', '139', '140'], ['289'], momentum=1.0, epsilon=9.999999747378752e-06, is_test=1)\n",
      "torch-jit-export_predict.Conv(['289', '142', '143'], ['290'], strides=[1, 1], pads=[1, 1, 1, 1], kernels=[3, 3], group=1, dilations=[1, 1])\n",
      "torch-jit-export_predict.Add(['290', '285'], ['291'])\n",
      "torch-jit-export_predict.Relu(['291'], ['292'])\n",
      "torch-jit-export_predict.SpatialBN(['292', '137', '138', '139', '140'], ['293'], momentum=1.0, epsilon=9.999999747378752e-06, is_test=1)\n",
      "torch-jit-export_predict.Conv(['293', '142', '143'], ['294'], strides=[1, 1], pads=[1, 1, 1, 1], kernels=[3, 3], group=1, dilations=[1, 1])\n",
      "torch-jit-export_predict.Add(['294', '285'], ['295'])\n",
      "torch-jit-export_predict.Relu(['295'], ['296'])\n",
      "torch-jit-export_predict.SpatialBN(['296', '137', '138', '139', '140'], ['297'], momentum=1.0, epsilon=9.999999747378752e-06, is_test=1)\n",
      "torch-jit-export_predict.Conv(['297', '144', '145'], ['298'], strides=[1, 1], pads=[1, 1, 1, 1], kernels=[3, 3], group=1, dilations=[1, 1])\n",
      "torch-jit-export_predict.Sigmoid(['298'], ['299'])\n",
      "torch-jit-export_predict.Sigmoid(['212'], ['300'])\n",
      "torch-jit-export_predict.Sigmoid(['233'], ['301'])\n",
      "torch-jit-export_predict.Sigmoid(['255'], ['302'])\n",
      "torch-jit-export_predict.Sigmoid(['277'], ['303'])\n",
      "torch-jit-export_predict.Sigmoid(['299'], ['304'])\n",
      "Input blob:  0\n",
      "Output blob:  304\n"
     ]
    }
   ],
   "source": [
    "# Let's run the mobile nets that we generated above so that caffe2 workspace is properly initialized\n",
    "workspace.RunNetOnce(init_net)\n",
    "workspace.RunNetOnce(predict_net)\n",
    "\n",
    "# Caffe2 has a nice net_printer to be able to inspect what the net looks like and identify\n",
    "# what our input and output blob names are.\n",
    "print(net_printer.to_string(predict_net))\n",
    "\n",
    "model_input_blob = predict_net.external_input[0]\n",
    "model_output_blob = predict_net.external_output[-1]\n",
    "print('Input blob: ', model_input_blob)\n",
    "print('Output blob: ', model_output_blob)"
   ]
  },
  {
   "cell_type": "code",
   "execution_count": 74,
   "metadata": {},
   "outputs": [],
   "source": [
    "# Now, let's also pass in the resized cat image for processing by the model.\n",
    "workspace.FeedBlob(model_input_blob, np.array(img)[np.newaxis, :, :, :].astype(np.float32))\n",
    "\n",
    "# run the predict_net to get the model output\n",
    "workspace.RunNetOnce(predict_net)\n",
    "\n",
    "# Now let's get the model output blob\n",
    "img_out = workspace.FetchBlob(model_output_blob)"
   ]
  },
  {
   "cell_type": "code",
   "execution_count": 75,
   "metadata": {},
   "outputs": [
    {
     "data": {
      "text/plain": [
       "<matplotlib.image.AxesImage at 0x7fab10f71390>"
      ]
     },
     "execution_count": 75,
     "metadata": {},
     "output_type": "execute_result"
    },
    {
     "data": {
      "image/png": "[encoded data removed]",
      "text/plain": [
       "<Figure size 432x288 with 1 Axes>"
      ]
     },
     "metadata": {
      "needs_background": "light"
     },
     "output_type": "display_data"
    }
   ],
   "source": [
    "plt.imshow(img_out[0, 0], cmap='gray')"
   ]
  }
 ],
 "metadata": {
  "kernelspec": {
   "display_name": "Python 3",
   "language": "python",
   "name": "python3"
  },
  "language_info": {
   "codemirror_mode": {
    "name": "ipython",
    "version": 3
   },
   "file_extension": ".py",
   "mimetype": "text/x-python",
   "name": "python",
   "nbconvert_exporter": "python",
   "pygments_lexer": "ipython3",
   "version": "3.6.2"
  }
 },
 "nbformat": 4,
 "nbformat_minor": 1
}
